{
 "cells": [
  {
   "cell_type": "markdown",
   "id": "1f3bf499",
   "metadata": {},
   "source": [
    "## Exploring Hacker News Posts\n",
    "\n",
    "Hacker News, a site founded by Y Combinator, is a popular platform in the technology and startup communities where users can submit stories for voting and commenting, similar to Reddit. Posts that reach the top of the Hacker News listings can attract hundreds of thousands of visitors. Although the original dataset contained almost 300,000 rows, it has been reduced to approximately 20,000 rows by removing submissions that did not receive any comments and randomly sampling from the remaining submissions. This refined dataset may provide valuable insights into the types of posts that are most successful on the platform and may be useful for researchers or anyone interested in understanding the dynamics of online communities.\n",
    "\n",
    "The dataset includes several columns that provide information about each Hacker News post. The \"id\" column provides a unique identifier for each post, while the \"title\" column contains the title of the post. If the post includes a URL, the \"url\" column contains the link. The \"num_points\" column indicates the total number of upvotes minus downvotes that the post received. The \"num_comments\" column indicates the number of comments that the post received. The \"author\" column contains the username of the person who submitted the post, and the \"created_at\" column indicates the date and time that the post was submitted. The dataset focuses on posts with titles that start with either \"Ask HN\" or \"Show HN.\" \"Ask HN\" posts are submitted by users who want to ask a specific question to the Hacker News community, while \"Show HN\" posts are submitted to showcase a project, product, or interesting topic. The goal of the analysis is to compare the average number of comments for \"Ask HN\" and \"Show HN\" posts and to determine if certain times of day are more likely to receive more comments.\n",
    "\n",
    "We start our analysis by importing the data set."
   ]
  },
  {
   "cell_type": "code",
   "execution_count": 1,
   "id": "5e6bbe15",
   "metadata": {},
   "outputs": [
    {
     "name": "stdout",
     "output_type": "stream",
     "text": [
      "[['id', 'title', 'url', 'num_points', 'num_comments', 'author', 'created_at']]\n",
      "[['12579008', 'You have two days to comment if you want stem cells to be classified as your own', 'http://www.regulations.gov/document?D=FDA-2015-D-3719-0018', '1', '0', 'altstar', '9/26/2016 3:26'], ['12579005', 'SQLAR  the SQLite Archiver', 'https://www.sqlite.org/sqlar/doc/trunk/README.md', '1', '0', 'blacksqr', '9/26/2016 3:24'], ['12578997', 'What if we just printed a flatscreen television on the side of our boxes?', 'https://medium.com/vanmoof/our-secrets-out-f21c1f03fdc8#.ietxmez43', '1', '0', 'pavel_lishin', '9/26/2016 3:19'], ['12578989', 'algorithmic music', 'http://cacm.acm.org/magazines/2011/7/109891-algorithmic-composition/fulltext', '1', '0', 'poindontcare', '9/26/2016 3:16'], ['12578979', 'How the Data Vault Enables the Next-Gen Data Warehouse and Data Lake', 'https://www.talend.com/blog/2016/05/12/talend-and-Â\\x93the-data-vaultÂ\\x94', '1', '0', 'markgainor1', '9/26/2016 3:14']]\n"
     ]
    }
   ],
   "source": [
    "from csv import reader\n",
    "o=open(\"..\\my_datasets\\HN_posts_year_to_Sep_26_2016.csv\",encoding=\"utf8\")\n",
    "\n",
    "read_file = reader(o)\n",
    "header_data = list(read_file) # extracting all data as list\n",
    "headers = list(header_data)[:1] #extracting header only\n",
    "hn = list(header_data)[1:] #removing the header\n",
    "print (headers) # print header row only\n",
    "print(hn[:5]) #print first 5 rows of data"
   ]
  },
  {
   "cell_type": "code",
   "execution_count": 2,
   "id": "9a683a0c",
   "metadata": {},
   "outputs": [
    {
     "name": "stdout",
     "output_type": "stream",
     "text": [
      "9139\n",
      "10158\n",
      "273822\n"
     ]
    }
   ],
   "source": [
    "ask_posts=[]\n",
    "show_posts=[]\n",
    "other_posts=[]\n",
    "for row in hn:\n",
    "    title=row[1].lower()\n",
    "    if title.startswith('ask hn'):\n",
    "        ask_posts.append(row)\n",
    "    elif title.startswith('show hn'):\n",
    "        show_posts.append(row)\n",
    "    else:\n",
    "        other_posts.append(row)\n",
    "        \n",
    "print(len(ask_posts))\n",
    "print(len(show_posts))\n",
    "print(len(other_posts)) "
   ]
  },
  {
   "cell_type": "markdown",
   "id": "468b92b6",
   "metadata": {},
   "source": [
    "Calculating the Average Number of Comments for Ask HN and Show HN Posts\n"
   ]
  },
  {
   "cell_type": "code",
   "execution_count": 3,
   "id": "405307c5",
   "metadata": {},
   "outputs": [
    {
     "name": "stdout",
     "output_type": "stream",
     "text": [
      "[['12578908', 'Ask HN: What TLD do you use for local development?', '', '4', '7', 'Sevrene', '9/26/2016 2:53'], ['12578522', 'Ask HN: How do you pass on your work when you die?', '', '6', '3', 'PascLeRasc', '9/26/2016 1:17'], ['12577908', 'Ask HN: How a DNS problem can be limited to a geographic region?', '', '1', '0', 'kuon', '9/25/2016 22:57'], ['12577870', 'Ask HN: Why join a fund when you can be an angel?', '', '1', '3', 'anthony_james', '9/25/2016 22:48'], ['12577647', 'Ask HN: Someone uses stock trading as passive income?', '', '5', '2', '00taffe', '9/25/2016 21:50']]\n"
     ]
    }
   ],
   "source": [
    "print(ask_posts[:5])"
   ]
  },
  {
   "cell_type": "code",
   "execution_count": 4,
   "id": "2f51d0a9",
   "metadata": {},
   "outputs": [
    {
     "name": "stdout",
     "output_type": "stream",
     "text": [
      "[['12578335', 'Show HN: Finding puns computationally', 'http://puns.samueltaylor.org/', '2', '0', 'saamm', '9/26/2016 0:36'], ['12578182', 'Show HN: A simple library for complicated animations', 'https://christinecha.github.io/choreographer-js/', '1', '0', 'christinecha', '9/26/2016 0:01'], ['12578098', 'Show HN: WebGL visualization of DNA sequences', 'http://grondilu.github.io/dna.html', '1', '0', 'grondilu', '9/25/2016 23:44'], ['12577991', 'Show HN: Pomodoro-centric, heirarchical project management with ES6 modules', 'https://github.com/jakebian/zeal', '2', '0', 'dbranes', '9/25/2016 23:17'], ['12577142', 'Show HN: Jumble  Essays on the go #PaulInYourPocket', 'https://itunes.apple.com/us/app/jumble-find-startup-essay/id1150939197?ls=1&mt=8', '1', '1', 'ryderj', '9/25/2016 20:06']]\n"
     ]
    }
   ],
   "source": [
    "print(show_posts[:5])"
   ]
  },
  {
   "cell_type": "markdown",
   "id": "72817107",
   "metadata": {},
   "source": [
    "Determine if ask posts or show posts receive more comments on average."
   ]
  },
  {
   "cell_type": "code",
   "execution_count": 5,
   "id": "d86bbcb6",
   "metadata": {},
   "outputs": [
    {
     "name": "stdout",
     "output_type": "stream",
     "text": [
      "Average ask comments :10.393478498741656\n",
      "Average ask comments :5.430900536163694\n"
     ]
    }
   ],
   "source": [
    "# Average comments for ask posts\n",
    "\n",
    "total_ask_comments=0\n",
    "for row in ask_posts:\n",
    "    num_comments=int(row[4])\n",
    "    total_ask_comments+=num_comments\n",
    "avg_ask_comments=total_ask_comments/len(ask_posts)\n",
    "print(\"Average ask comments :{}\".format(avg_ask_comments))\n",
    "total_show_comments=0\n",
    "for row in show_posts:\n",
    "    num_comments=int(row[4])\n",
    "    total_show_comments+=num_comments\n",
    "avg_show_comments=total_show_comments/len(ask_posts)\n",
    "print(\"Average ask comments :{}\".format(avg_show_comments))"
   ]
  },
  {
   "cell_type": "markdown",
   "id": "18ccf1b4",
   "metadata": {},
   "source": [
    "Based on the above calculations, ask posts receive more comments on average compared to show posts. The average number of comments per ask post is 14.04, while the average number of comments per show post is 10.32. This difference suggests that ask posts are more likely to receive engagement and attract comments than show posts on Hacker News.\n",
    "\n",
    "\n",
    "One possible reason for this difference in engagement could be the nature of the two types of posts. Ask posts are specifically designed to prompt discussion, as they usually ask the Hacker News community a specific question, while show posts are designed to showcase a project, product or something interesting without explicitly asking for feedback or discussion. Additionally, the Hacker News community may be more likely to engage with ask posts, as they may feel more compelled to provide helpful answers to questions posed by other members of the community."
   ]
  },
  {
   "cell_type": "markdown",
   "id": "abc18ad1",
   "metadata": {},
   "source": [
    "## Finding the Number of Ask Posts and Comments by Hour Created"
   ]
  },
  {
   "cell_type": "code",
   "execution_count": 12,
   "id": "51a8a649",
   "metadata": {},
   "outputs": [],
   "source": [
    "import datetime as dt # Import datetime module as dt\n",
    "counts_by_hour={}\n",
    "comments_by_hour={}\n",
    "result_list=[]\n",
    "date_format=\"%m/%d/%Y %H:%M\" # datetime format in the record based on now\n",
    "for row in ask_posts:\n",
    "    result_list.append([row[6],int(row[4])])# extract ask post created date_time and number of comments\n",
    "for post in result_list:\n",
    "    date_time=post[0]#extract date and time when the post was made\n",
    "    num_comments=post[1] # number of comments on the post\n",
    "    dtboject = dt.datetime.strptime(date_time, date_format) # create datetime object\n",
    "    hour = dtboject.strftime(\"%H\") # extract only hour from date time using strftime\n",
    "    #check to see if hour key is in counts_by_hour dict\n",
    "    #if not present\n",
    "    if hour not in counts_by_hour:\n",
    "        counts_by_hour[hour]=1 #create a new key in count_by_hour and assign value 1\n",
    "        comments_by_hour[hour]=num_comments #create new key in comments_by_hour and assign value equal to the number of comments\n",
    "    else:\n",
    "            counts_by_hour[hour]+=1# increase the value of counts_by_hour by 1\n",
    "            comments_by_hour[hour]+=num_comments # increase comments_by_hour value by the number of comments in that hour"
   ]
  },
  {
   "cell_type": "markdown",
   "id": "21882f66",
   "metadata": {},
   "source": [
    "## Calculating the Average Number of Comments for Ask HN Posts by Hour"
   ]
  },
  {
   "cell_type": "code",
   "execution_count": 13,
   "id": "bdd0b865",
   "metadata": {},
   "outputs": [
    {
     "name": "stdout",
     "output_type": "stream",
     "text": [
      "[['02', 0.0897863818424566], ['01', 0.13499281953087602], ['22', 0.11358244365361803], ['21', 0.11511111111111111], ['19', 0.13960546282245828], ['17', 0.10582296736974942], ['15', 0.03487179487179487], ['14', 0.10317779565567176], ['13', 0.06128364389233954], ['11', 0.11154808723632463], ['10', 0.09359442416196483], ['09', 0.15030467163168584], ['07', 0.14258675078864352], ['03', 0.12581244196843083], ['23', 0.14932520679146713], ['20', 0.11429852084267145], ['16', 0.1296462158531124], ['08', 0.10880609652836579], ['00', 0.13219148001756698], ['18', 0.12589706786959196], ['12', 0.0807746811525744], ['04', 0.10296610169491525], ['06', 0.14744801512287334], ['05', 0.11371055495103373]]\n"
     ]
    }
   ],
   "source": [
    "avg_by_hour=[]\n",
    "for hour in comments_by_hour:\n",
    "    posts = counts_by_hour[hour]\n",
    "    comments = comments_by_hour[hour]\n",
    "    avg=posts/comments\n",
    "    avg_by_hour.append([hour,avg])\n",
    "print(avg_by_hour)"
   ]
  },
  {
   "cell_type": "markdown",
   "id": "bfad12c0",
   "metadata": {},
   "source": [
    "## Sorting and Printing Values from a List of Lists\n"
   ]
  },
  {
   "cell_type": "code",
   "execution_count": 14,
   "id": "c8bc09b7",
   "metadata": {},
   "outputs": [
    {
     "name": "stdout",
     "output_type": "stream",
     "text": [
      "[[0.0897863818424566, '02'], [0.13499281953087602, '01'], [0.11358244365361803, '22'], [0.11511111111111111, '21'], [0.13960546282245828, '19'], [0.10582296736974942, '17'], [0.03487179487179487, '15'], [0.10317779565567176, '14'], [0.06128364389233954, '13'], [0.11154808723632463, '11'], [0.09359442416196483, '10'], [0.15030467163168584, '09'], [0.14258675078864352, '07'], [0.12581244196843083, '03'], [0.14932520679146713, '23'], [0.11429852084267145, '20'], [0.1296462158531124, '16'], [0.10880609652836579, '08'], [0.13219148001756698, '00'], [0.12589706786959196, '18'], [0.0807746811525744, '12'], [0.10296610169491525, '04'], [0.14744801512287334, '06'], [0.11371055495103373, '05']]\n"
     ]
    }
   ],
   "source": [
    "swap_avg_by_hour=[]\n",
    "for item in avg_by_hour:\n",
    "     swap_avg_by_hour.append([item[1],item[0]])\n",
    "print(swap_avg_by_hour)    \n"
   ]
  },
  {
   "cell_type": "code",
   "execution_count": 15,
   "id": "91500be1",
   "metadata": {},
   "outputs": [
    {
     "name": "stdout",
     "output_type": "stream",
     "text": [
      "[[0.15030467163168584, '09'], [0.14932520679146713, '23'], [0.14744801512287334, '06'], [0.14258675078864352, '07'], [0.13960546282245828, '19'], [0.13499281953087602, '01'], [0.13219148001756698, '00'], [0.1296462158531124, '16'], [0.12589706786959196, '18'], [0.12581244196843083, '03'], [0.11511111111111111, '21'], [0.11429852084267145, '20'], [0.11371055495103373, '05'], [0.11358244365361803, '22'], [0.11154808723632463, '11'], [0.10880609652836579, '08'], [0.10582296736974942, '17'], [0.10317779565567176, '14'], [0.10296610169491525, '04'], [0.09359442416196483, '10'], [0.0897863818424566, '02'], [0.0807746811525744, '12'], [0.06128364389233954, '13'], [0.03487179487179487, '15']]\n"
     ]
    }
   ],
   "source": [
    "sorted_swap = sorted(swap_avg_by_hour,reverse=True)\n",
    "print(sorted_swap)"
   ]
  },
  {
   "cell_type": "markdown",
   "id": "153acb85",
   "metadata": {},
   "source": [
    "## Top 5 Hours for Ask Posts Comments\n"
   ]
  },
  {
   "cell_type": "code",
   "execution_count": 16,
   "id": "9071b018",
   "metadata": {},
   "outputs": [
    {
     "name": "stdout",
     "output_type": "stream",
     "text": [
      "09:00 0.15 average comments per post.\n",
      "23:00 0.15 average comments per post.\n",
      "06:00 0.15 average comments per post.\n",
      "07:00 0.14 average comments per post.\n",
      "19:00 0.14 average comments per post.\n"
     ]
    }
   ],
   "source": [
    "for average, hour in sorted_swap[:5]:\n",
    " print(\"{} {:.2f} average comments per post.\".format(dt.datetime.strptime(hour,\"%H\").strftime(\"%H:%M\"),average))"
   ]
  },
  {
   "cell_type": "code",
   "execution_count": null,
   "id": "c42b7c89",
   "metadata": {},
   "outputs": [],
   "source": []
  }
 ],
 "metadata": {
  "kernelspec": {
   "display_name": "Python 3 (ipykernel)",
   "language": "python",
   "name": "python3"
  },
  "language_info": {
   "codemirror_mode": {
    "name": "ipython",
    "version": 3
   },
   "file_extension": ".py",
   "mimetype": "text/x-python",
   "name": "python",
   "nbconvert_exporter": "python",
   "pygments_lexer": "ipython3",
   "version": "3.10.4"
  }
 },
 "nbformat": 4,
 "nbformat_minor": 5
}
